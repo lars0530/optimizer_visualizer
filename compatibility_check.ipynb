{
 "cells": [
  {
   "cell_type": "code",
   "execution_count": 21,
   "metadata": {},
   "outputs": [],
   "source": [
    "from random import randint\n",
    "import matplotlib.pyplot as plt\n",
    "import numpy as np\n",
    "import ipywidgets as widgets\n",
    "from typing import Tuple, List, Callable, Any"
   ]
  },
  {
   "cell_type": "code",
   "execution_count": 23,
   "metadata": {},
   "outputs": [
    {
     "data": {
      "application/vnd.jupyter.widget-view+json": {
       "model_id": "109e07c2b7fa45709191593fc902f0f4",
       "version_major": 2,
       "version_minor": 0
      },
      "text/plain": [
       "VBox(children=(FloatSlider(value=1.0, description='a:', max=10.0, min=-10.0), FloatSlider(value=-2.0, descript…"
      ]
     },
     "metadata": {},
     "output_type": "display_data"
    },
    {
     "data": {
      "application/vnd.jupyter.widget-view+json": {
       "model_id": "7c56451cce59493782d0e250ea329b51",
       "version_major": 2,
       "version_minor": 0
      },
      "text/plain": [
       "Output()"
      ]
     },
     "metadata": {},
     "output_type": "display_data"
    }
   ],
   "source": [
    "def plot_function(a,b) -> None:\n",
    "    # Werte der X-Achse\n",
    "    x = np.linspace(-20,20,100)\n",
    "\n",
    "    # Lineare Funktion: a*x + b \n",
    "    def function(a,b) -> np.ndarray:\n",
    "        return a*x+b\n",
    "    \n",
    "    # Berechne y durch die Funktion\n",
    "    y = function(a, b)\n",
    "    # Funktion plotten\n",
    "    plt.plot(x, y)\n",
    "\n",
    "    # y-Achsenabschnitt\n",
    "    plt.scatter(0, b, color='red')  \n",
    "\n",
    "    # Bereich des Plots eingrenzen\n",
    "    plt.xlim(-10,10)\n",
    "    plt.ylim(-10,10)\n",
    "\n",
    "    # Achsenbeschriftungen\n",
    "    plt.xlabel('Y')\n",
    "    plt.ylabel('X')\n",
    "    \n",
    "    # Titel formattieren\n",
    "    a_rounded = round(a, 2)\n",
    "    b_rounded = round(b, 2)\n",
    "    if a_rounded == 0:\n",
    "        title = f'Linear Function: y = {b_rounded}'\n",
    "    elif b_rounded == 0:\n",
    "        title = f'Linear Function: y = {a_rounded}x'\n",
    "    elif b_rounded > 0:\n",
    "        title = f'Linear Function: y = {a_rounded}x + {b_rounded}'\n",
    "    else:\n",
    "        title = f'Linear Function: y = {a_rounded}x - {abs(b_rounded)}'\n",
    "    plt.title(title)\n",
    "\n",
    "    # Plot erzeugen\n",
    "    plt.grid(True)\n",
    "    plt.axhline(0, color='black',linewidth=0.5)\n",
    "    plt.axvline(0, color='black',linewidth=0.5)\n",
    "    plt.show()\n",
    "\n",
    "# Slider für Interaktivitaet\n",
    "a_slider = widgets.FloatSlider(min=-10, max=10, step=0.1, value=1, description='a:')\n",
    "b_slider = widgets.FloatSlider(min=-10, max=10, step=0.1, value=-2, description='b:')\n",
    "\n",
    "# UI\n",
    "ui = widgets.VBox([a_slider, b_slider])\n",
    "# Aufruf der Funktion mit Slider-Parametern\n",
    "out = widgets.interactive_output(\n",
    "        plot_function,\n",
    "        {\n",
    "            \"a\": a_slider,\n",
    "            \"b\": b_slider,\n",
    "        },\n",
    "    )\n",
    "\n",
    "display(ui, out)"
   ]
  }
 ],
 "metadata": {
  "kernelspec": {
   "display_name": "Python 3",
   "language": "python",
   "name": "python3"
  },
  "language_info": {
   "codemirror_mode": {
    "name": "ipython",
    "version": 3
   },
   "file_extension": ".py",
   "mimetype": "text/x-python",
   "name": "python",
   "nbconvert_exporter": "python",
   "pygments_lexer": "ipython3",
   "version": "3.12.2"
  }
 },
 "nbformat": 4,
 "nbformat_minor": 2
}
